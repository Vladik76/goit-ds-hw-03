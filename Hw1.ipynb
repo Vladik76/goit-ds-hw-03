{
  "nbformat": 4,
  "nbformat_minor": 0,
  "metadata": {
    "colab": {
      "provenance": [],
      "authorship_tag": "ABX9TyNRHsirAVzO89oCF744nYQt",
      "include_colab_link": true
    },
    "kernelspec": {
      "name": "python3",
      "display_name": "Python 3"
    },
    "language_info": {
      "name": "python"
    }
  },
  "cells": [
    {
      "cell_type": "markdown",
      "metadata": {
        "id": "view-in-github",
        "colab_type": "text"
      },
      "source": [
        "<a href=\"https://colab.research.google.com/github/Vladik76/goit-ds-hw-03/blob/main/Hw1.ipynb\" target=\"_parent\"><img src=\"https://colab.research.google.com/assets/colab-badge.svg\" alt=\"Open In Colab\"/></a>"
      ]
    },
    {
      "cell_type": "code",
      "execution_count": null,
      "metadata": {
        "id": "nTHCHSvXlAcK",
        "colab": {
          "base_uri": "https://localhost:8080/"
        },
        "outputId": "1703549c-61be-4f9a-eb5d-e0dea2f63238"
      },
      "outputs": [
        {
          "output_type": "execute_result",
          "data": {
            "text/plain": [
              "array([ 1,  2,  3,  4,  5,  6,  7,  8,  9, 10])"
            ]
          },
          "metadata": {},
          "execution_count": 17
        }
      ],
      "source": [
        "import numpy as np\n",
        "import random\n",
        "a = np.array([1, 2, 3, 4, 5, 6, 7, 8, 9, 10])\n",
        "a"
      ]
    },
    {
      "cell_type": "code",
      "source": [
        "b = np.zeros( (3, 3) )\n",
        "b"
      ],
      "metadata": {
        "id": "Eh6Gt1LxlEsk",
        "colab": {
          "base_uri": "https://localhost:8080/"
        },
        "outputId": "1c5fca87-6fcb-4594-fd14-0eb78dd5eb2d"
      },
      "execution_count": null,
      "outputs": [
        {
          "output_type": "execute_result",
          "data": {
            "text/plain": [
              "array([[0., 0., 0.],\n",
              "       [0., 0., 0.],\n",
              "       [0., 0., 0.]])"
            ]
          },
          "metadata": {},
          "execution_count": 12
        }
      ]
    },
    {
      "cell_type": "code",
      "source": [
        "c = np.random.randint(1 ,11, size=(5, 5))\n",
        "c"
      ],
      "metadata": {
        "colab": {
          "base_uri": "https://localhost:8080/"
        },
        "id": "f0VZg-eKnSKJ",
        "outputId": "7c95f355-d544-4a78-d768-f0187d7de755"
      },
      "execution_count": null,
      "outputs": [
        {
          "output_type": "execute_result",
          "data": {
            "text/plain": [
              "array([[1, 5, 1, 5, 4],\n",
              "       [7, 2, 3, 4, 5],\n",
              "       [3, 3, 9, 9, 7],\n",
              "       [9, 4, 8, 9, 8],\n",
              "       [1, 9, 5, 5, 1]])"
            ]
          },
          "metadata": {},
          "execution_count": 35
        }
      ]
    },
    {
      "cell_type": "code",
      "source": [
        "d = np.random.random((4, 4))\n",
        "d"
      ],
      "metadata": {
        "colab": {
          "base_uri": "https://localhost:8080/"
        },
        "id": "qUrM3LEKstkd",
        "outputId": "6cbd333b-62b4-4f15-d3ee-6505ccd19d1a"
      },
      "execution_count": null,
      "outputs": [
        {
          "output_type": "execute_result",
          "data": {
            "text/plain": [
              "array([[0.57246222, 0.74544407, 0.17308064, 0.04677092],\n",
              "       [0.66929082, 0.34946567, 0.56367477, 0.54235553],\n",
              "       [0.76366299, 0.31260992, 0.08014459, 0.48793359],\n",
              "       [0.67647822, 0.17067328, 0.45719343, 0.06349564]])"
            ]
          },
          "metadata": {},
          "execution_count": 34
        }
      ]
    },
    {
      "cell_type": "code",
      "source": [
        "e = np.random.randint(1 ,11, size=(5))\n",
        "f = np.random.randint(1 ,11, size=(5))\n",
        "print(e)\n",
        "print(f)\n",
        "print(\"====\")\n",
        "print(e + f)\n",
        "print(e - f)\n",
        "print(e * f)\n",
        "\n"
      ],
      "metadata": {
        "colab": {
          "base_uri": "https://localhost:8080/"
        },
        "id": "aTNkkHmttP1S",
        "outputId": "ebd60a69-1ce0-42de-d45e-7fcfabf0c59d"
      },
      "execution_count": null,
      "outputs": [
        {
          "output_type": "stream",
          "name": "stdout",
          "text": [
            "[ 8  5 10  4  7]\n",
            "[ 7  9  8 10  6]\n",
            "====\n",
            "[15 14 18 14 13]\n",
            "[ 1 -4  2 -6  1]\n",
            "[56 45 80 40 42]\n"
          ]
        }
      ]
    },
    {
      "cell_type": "code",
      "source": [
        "e = np.random.randint(1,100,size=(7)) #We can also use np.random.randn()\n",
        "f = np.random.randint(1,100,size=(7))\n",
        "\n",
        "print(np.dot(e, f))"
      ],
      "metadata": {
        "colab": {
          "base_uri": "https://localhost:8080/"
        },
        "id": "eKPJ_jBQwRdR",
        "outputId": "ed1971b1-2ba5-40f6-e09d-7eadfa6d4202"
      },
      "execution_count": null,
      "outputs": [
        {
          "output_type": "stream",
          "name": "stdout",
          "text": [
            "27327\n"
          ]
        }
      ]
    },
    {
      "cell_type": "code",
      "source": [
        "a = np.random.randint(1 ,11, size=(2, 2))\n",
        "b = np.random.randint(1 ,11, size=(2, 3))\n",
        "c=np.dot(a, b)\n",
        "\n",
        "c"
      ],
      "metadata": {
        "colab": {
          "base_uri": "https://localhost:8080/"
        },
        "id": "oD3kFvYczcXp",
        "outputId": "5bd78e63-a2db-4bad-a0ab-eacbbdf7568a"
      },
      "execution_count": null,
      "outputs": [
        {
          "output_type": "execute_result",
          "data": {
            "text/plain": [
              "array([[ 62, 108,  72],\n",
              "       [ 44,  56,  48]])"
            ]
          },
          "metadata": {},
          "execution_count": 57
        }
      ]
    },
    {
      "cell_type": "code",
      "source": [
        "a = np.random.randint(1 ,11, size=(3, 3))\n",
        "a_inv = np.linalg.inv(a)\n",
        "print(a_inv)\n"
      ],
      "metadata": {
        "colab": {
          "base_uri": "https://localhost:8080/"
        },
        "id": "rNR2xuyG1YG-",
        "outputId": "baffa327-f211-4945-c263-b1a2e0c235cc"
      },
      "execution_count": null,
      "outputs": [
        {
          "output_type": "stream",
          "name": "stdout",
          "text": [
            "[[ -1.75   0.25   0.5 ]\n",
            " [ 11.25  -1.75  -2.5 ]\n",
            " [-16.25   2.75   3.5 ]]\n"
          ]
        }
      ]
    },
    {
      "cell_type": "code",
      "source": [
        "a = np.random.random((4, 4))\n",
        "b = a.T\n",
        "print(b)"
      ],
      "metadata": {
        "colab": {
          "base_uri": "https://localhost:8080/"
        },
        "id": "1PIefzdR3KW6",
        "outputId": "86f88691-683c-4c42-8552-da84b2631624"
      },
      "execution_count": null,
      "outputs": [
        {
          "output_type": "stream",
          "name": "stdout",
          "text": [
            "[[0.41895773 0.36436771 0.99661063 0.67633467]\n",
            " [0.64799323 0.93798372 0.77312628 0.27809132]\n",
            " [0.75019413 0.78995494 0.52300249 0.58865418]\n",
            " [0.49236612 0.21184494 0.53410281 0.35247772]]\n"
          ]
        }
      ]
    },
    {
      "cell_type": "code",
      "source": [
        "a = np.random.randint(1 ,11, size=(3, 4))\n",
        "b = np.random.randint(1 ,11, size=(4))\n",
        "print(np.dot(a, b))"
      ],
      "metadata": {
        "colab": {
          "base_uri": "https://localhost:8080/"
        },
        "id": "HdwCmmjE5hTX",
        "outputId": "fcc71a69-bca7-475b-8e8a-4222c230ca1d"
      },
      "execution_count": null,
      "outputs": [
        {
          "output_type": "stream",
          "name": "stdout",
          "text": [
            "[87 34 72]\n"
          ]
        }
      ]
    },
    {
      "cell_type": "code",
      "source": [
        "a = np.random.random((2, 3))\n",
        "b = np.random.random((3))\n",
        "\n",
        "print(np.dot(a,b))"
      ],
      "metadata": {
        "colab": {
          "base_uri": "https://localhost:8080/"
        },
        "id": "xTGvUmTG87rZ",
        "outputId": "57627f39-5189-448b-a00a-d61b88f9a97e"
      },
      "execution_count": null,
      "outputs": [
        {
          "output_type": "stream",
          "name": "stdout",
          "text": [
            "[1.0688742  0.94239692]\n"
          ]
        }
      ]
    },
    {
      "cell_type": "code",
      "source": [
        "a = np.random.randint(1 ,11, size=(2, 2))\n",
        "b = np.random.randint(1 ,11, size=(2, 2))\n",
        "\n",
        "print(a*b)"
      ],
      "metadata": {
        "colab": {
          "base_uri": "https://localhost:8080/"
        },
        "id": "_D0UfQet9Uah",
        "outputId": "3575d1eb-e3fb-46cf-c6ed-fa3571f5d34b"
      },
      "execution_count": null,
      "outputs": [
        {
          "output_type": "stream",
          "name": "stdout",
          "text": [
            "[[18 54]\n",
            " [36 36]]\n"
          ]
        }
      ]
    },
    {
      "cell_type": "code",
      "source": [
        "a = np.random.randint(1 ,11, size=(2, 2))\n",
        "b = np.random.randint(1 ,11, size=(2, 2))\n",
        "\n",
        "print(np.dot(a, b))"
      ],
      "metadata": {
        "colab": {
          "base_uri": "https://localhost:8080/"
        },
        "id": "hMoO_wYI_0BI",
        "outputId": "4291b10c-6de8-467e-8df0-0e007c15d2d8"
      },
      "execution_count": null,
      "outputs": [
        {
          "output_type": "stream",
          "name": "stdout",
          "text": [
            "[[14 38]\n",
            " [14 89]]\n"
          ]
        }
      ]
    },
    {
      "cell_type": "code",
      "source": [
        "a = np.random.randint(1 ,101, size=(5, 5))\n",
        "print(a.sum())"
      ],
      "metadata": {
        "colab": {
          "base_uri": "https://localhost:8080/"
        },
        "id": "xeodHY6BAEQf",
        "outputId": "784b571b-7b62-41c0-9e59-cf4247268d17"
      },
      "execution_count": null,
      "outputs": [
        {
          "output_type": "stream",
          "name": "stdout",
          "text": [
            "1316\n"
          ]
        }
      ]
    },
    {
      "cell_type": "code",
      "source": [
        "a = np.random.randint(1 ,11, size=(4, 4))\n",
        "b = np.random.randint(1 ,11, size=(4, 4))\n",
        "\n",
        "print(a-b)"
      ],
      "metadata": {
        "colab": {
          "base_uri": "https://localhost:8080/"
        },
        "id": "Cp2I26_4AZ4E",
        "outputId": "bb881cdd-dd51-4c15-c01b-e12bb4e3afc5"
      },
      "execution_count": null,
      "outputs": [
        {
          "output_type": "stream",
          "name": "stdout",
          "text": [
            "[[-2  1  8 -1]\n",
            " [-2  1  1 -1]\n",
            " [ 3 -1 -1  0]\n",
            " [-8  4 -4 -3]]\n"
          ]
        }
      ]
    },
    {
      "cell_type": "code",
      "source": [
        "a = np.random.random((3, 3))\n",
        "sum_of_rows = np.sum(a, axis = 1)\n",
        "print(sum_of_rows)"
      ],
      "metadata": {
        "colab": {
          "base_uri": "https://localhost:8080/"
        },
        "id": "GbwQRaQZA6hW",
        "outputId": "f384266f-4d28-4fef-af3a-c17fcec2327f"
      },
      "execution_count": null,
      "outputs": [
        {
          "output_type": "stream",
          "name": "stdout",
          "text": [
            "[1.4717288  1.58121539 1.87361068]\n"
          ]
        }
      ]
    },
    {
      "cell_type": "code",
      "source": [
        "a = np.random.randint(1 ,101, size=(3, 4))\n",
        "b = np.multiply(a, a)\n",
        "print(a)\n",
        "print(\"===\")\n",
        "print(b)"
      ],
      "metadata": {
        "colab": {
          "base_uri": "https://localhost:8080/"
        },
        "id": "N6-CPeCnckh3",
        "outputId": "10460597-edef-400f-8a25-1f9e8a191e3e"
      },
      "execution_count": null,
      "outputs": [
        {
          "output_type": "stream",
          "name": "stdout",
          "text": [
            "[[32 43 42 40]\n",
            " [ 1  5 78 37]\n",
            " [80  7 70 11]]\n",
            "===\n",
            "[[1024 1849 1764 1600]\n",
            " [   1   25 6084 1369]\n",
            " [6400   49 4900  121]]\n"
          ]
        }
      ]
    },
    {
      "cell_type": "code",
      "source": [
        "a = np.random.randint(1 ,51, size=(1, 4))\n",
        "b = np.sqrt(a)\n",
        "print(a)\n",
        "print(b)"
      ],
      "metadata": {
        "colab": {
          "base_uri": "https://localhost:8080/"
        },
        "id": "gESgQAbXg7_k",
        "outputId": "3188b9cb-d929-415e-8352-ffb2c083ec4a"
      },
      "execution_count": null,
      "outputs": [
        {
          "output_type": "stream",
          "name": "stdout",
          "text": [
            "[[28 15 27 25]]\n",
            "[[5.29150262 3.87298335 5.19615242 5.        ]]\n"
          ]
        }
      ]
    }
  ]
}